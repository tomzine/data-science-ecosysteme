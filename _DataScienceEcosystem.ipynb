{
 "cells": [
  {
   "cell_type": "markdown",
   "id": "9ca550f5",
   "metadata": {},
   "source": [
    "# Data Science Tools and Ecosystem"
   ]
  },
  {
   "cell_type": "markdown",
   "id": "aafb8dde",
   "metadata": {},
   "source": [
    "In this notebook, Data Science Tools and Ecosystem are summarized"
   ]
  },
  {
   "cell_type": "markdown",
   "id": "ebbc4c68",
   "metadata": {},
   "source": [
    "**Objectives:**\n",
    "* Data science languages\n",
    "* Data science libraries\n",
    "* Data Science tools"
   ]
  },
  {
   "cell_type": "markdown",
   "id": "7d07b48b",
   "metadata": {},
   "source": [
    "Some of the popular languages that Data Scientists use are:\n",
    "1. Python\n",
    "2. R\n",
    "3. SQL"
   ]
  },
  {
   "cell_type": "markdown",
   "id": "a3ab75a0",
   "metadata": {},
   "source": [
    "Some of the commonly used libraries used by Data Scientists include:\n",
    "1. Numpy\n",
    "2. Pandas\n",
    "3. Matplotlib\n",
    "4. Seaborn\n",
    "5. sckit-learn\n",
    "6. TensorFlow"
   ]
  },
  {
   "cell_type": "markdown",
   "id": "1476c52f",
   "metadata": {},
   "source": [
    "| Data Science Tools |\n",
    "| ------------------ |\n",
    "|  Jupyter Notebook  |\n",
    "|     JupyterLab     |\n",
    "|       RStudio      |"
   ]
  },
  {
   "cell_type": "markdown",
   "id": "ea37ca7b",
   "metadata": {},
   "source": [
    "### Below are a few examples of evaluating arithmetic expressions in Python\n",
    "#### Addition :\n",
    "5 + 3\n",
    "\n",
    "#### Subtraction :\n",
    "5 - 2"
   ]
  },
  {
   "cell_type": "code",
   "execution_count": 1,
   "id": "c3e2afa7",
   "metadata": {},
   "outputs": [
    {
     "data": {
      "text/plain": [
       "17"
      ]
     },
     "execution_count": 1,
     "metadata": {},
     "output_type": "execute_result"
    }
   ],
   "source": [
    "# This a simple arithmetic expression to mutiply then add integers\n",
    "( 3 * 4 ) + 5"
   ]
  },
  {
   "cell_type": "code",
   "execution_count": 4,
   "id": "747381de",
   "metadata": {},
   "outputs": [
    {
     "name": "stdout",
     "output_type": "stream",
     "text": [
      "200 minutes equales to 3.3333333333333335 hours\n"
     ]
    }
   ],
   "source": [
    "#This will convert 200 minutes to hours by diving by 60\n",
    "minutes = 200\n",
    "hours = minutes / 60\n",
    "\n",
    "print( str(minutes) + ' minutes equales to ' + str(hours) + ' hours')"
   ]
  },
  {
   "cell_type": "markdown",
   "id": "f25ac71b",
   "metadata": {},
   "source": [
    "## Author :\n",
    "Tomzine Mohamed"
   ]
  },
  {
   "cell_type": "code",
   "execution_count": null,
   "id": "fa53eda5",
   "metadata": {},
   "outputs": [],
   "source": []
  }
 ],
 "metadata": {
  "kernelspec": {
   "display_name": "Python 3 (ipykernel)",
   "language": "python",
   "name": "python3"
  },
  "language_info": {
   "codemirror_mode": {
    "name": "ipython",
    "version": 3
   },
   "file_extension": ".py",
   "mimetype": "text/x-python",
   "name": "python",
   "nbconvert_exporter": "python",
   "pygments_lexer": "ipython3",
   "version": "3.10.11"
  }
 },
 "nbformat": 4,
 "nbformat_minor": 5
}
